{
  "nbformat": 4,
  "nbformat_minor": 0,
  "metadata": {
    "colab": {
      "provenance": [],
      "authorship_tag": "ABX9TyPM5sn0EghKP+z6pshPpgrw",
      "include_colab_link": true
    },
    "kernelspec": {
      "name": "python3",
      "display_name": "Python 3"
    },
    "language_info": {
      "name": "python"
    }
  },
  "cells": [
    {
      "cell_type": "markdown",
      "metadata": {
        "id": "view-in-github",
        "colab_type": "text"
      },
      "source": [
        "<a href=\"https://colab.research.google.com/github/viivi02/scripts_em_python/blob/main/Atividades_em_python.ipynb\" target=\"_parent\"><img src=\"https://colab.research.google.com/assets/colab-badge.svg\" alt=\"Open In Colab\"/></a>"
      ]
    },
    {
      "cell_type": "markdown",
      "source": [
        " Faça um algoritmo que contenha as seguintes variáveis do tipo Real:\n",
        "vvalor, vaumento com valor atribuído manualmente com “=“ para a\n",
        "variável vvalor. FAÇA O CÁLCULO DA VARIÁVEL vaumento SABENDO QUE\n",
        "ESSA RECEBERÁ O VALOR (=) DA VARIÁVEL VVALOR COM O ACRÉSCIMO\n",
        "10% DE AUMENTO"
      ],
      "metadata": {
        "id": "gpRSQ-oDfJgV"
      }
    },
    {
      "cell_type": "code",
      "execution_count": null,
      "metadata": {
        "colab": {
          "base_uri": "https://localhost:8080/"
        },
        "id": "-LGwVj_ae_NM",
        "outputId": "af82fc9e-9dbd-4afb-cb3b-8de4ae45f610"
      },
      "outputs": [
        {
          "output_type": "stream",
          "name": "stdout",
          "text": [
            "Valor com aumento : 503.80\n"
          ]
        }
      ],
      "source": [
        "vvalor = 458.00\n",
        "vaumento = (vvalor * 0.10) + vvalor;\n",
        "print('Valor com aumento : %.2f'%vaumento)"
      ]
    },
    {
      "cell_type": "markdown",
      "source": [
        "Faça um algoritmo que contenha as seguintes variáveis do tipo Real: p1,\n",
        "p2, at e media com valores atribuídos por você a essas variáveis, com\n",
        "exceção da variável media. FAÇA O CÁLCULO DA VARIÁVEL media!\n"
      ],
      "metadata": {
        "id": "QoDN4-Tfg7e6"
      }
    },
    {
      "cell_type": "code",
      "source": [
        "p1 = float (input('Insira a nota da prova 1: '))\n",
        "p2 = float (input('Insira a nota da prova 2: '))\n",
        "at = float (input('Insira a pontuação de atividades: '))\n",
        "media = ((p1+p2+at)/3);\n",
        "print (f'({p1}+{p2}+{at})/3 ==> {round(media,2)}')\n",
        "\n"
      ],
      "metadata": {
        "colab": {
          "base_uri": "https://localhost:8080/"
        },
        "id": "stLF5bA7hATI",
        "outputId": "c8a74169-85a4-448b-c8a7-fddb533e69bc"
      },
      "execution_count": null,
      "outputs": [
        {
          "output_type": "stream",
          "name": "stdout",
          "text": [
            "Insira a nota da prova 1: 8\n",
            "Insira a nota da prova 2: 7\n",
            "Insira a pontuação de atividades: 2\n",
            "(8.0+7.0+2.0)/3 ==> 5.67\n"
          ]
        }
      ]
    },
    {
      "cell_type": "markdown",
      "source": [
        "Converta o algoritmo abaixo para Python:\n",
        "Algoritmo \"escr\"\n",
        "Var preco_unit, preco_tot :real\n",
        " quant : inteiro\n",
        "Inicio\n",
        " escreva(\"Preço Unitário:\")\n",
        " leia(preco_unit)\n",
        " escreva(\"Quantidade:\")\n",
        " leia(quant)\n",
        " preco_tot := preco_unit * quant\n",
        " escreva(\"Preço Total: \",preco_tot)\n",
        "FimAlgoritmo\n",
        "\n",
        "\n"
      ],
      "metadata": {
        "id": "-PPp1bSnjz-w"
      }
    },
    {
      "cell_type": "code",
      "source": [
        "puni = float (input('Valor unitário: '))\n",
        "quat = int (input('Quantidade: '))\n",
        "ptot = puni * quat;\n",
        "print(f'sua compra de {puni} na quantidade de {quat} resultou em um total de %.2f'%ptot)"
      ],
      "metadata": {
        "colab": {
          "base_uri": "https://localhost:8080/"
        },
        "id": "waUACAMoj4jo",
        "outputId": "b54cd598-8d34-49f7-fe81-4b7c722ba483"
      },
      "execution_count": null,
      "outputs": [
        {
          "output_type": "stream",
          "name": "stdout",
          "text": [
            "Valor unitário: 4.50\n",
            "Quantidade: 2\n",
            "sua compra de 4.5 na quantidade de 2 resultou em um total de 9.00\n"
          ]
        }
      ]
    },
    {
      "cell_type": "markdown",
      "source": [
        "Faça um algoritmo que o usuário entre com extensão e um dos lados\n",
        "de um quadrado calcule e mostre a área do quadrado calculada. Em\n",
        "seguida mostre o dobro desta área para o usuário."
      ],
      "metadata": {
        "id": "MqClOHVvnINq"
      }
    },
    {
      "cell_type": "code",
      "source": [
        "lado = float (input('Insira a medida do lado do quadrado: '))\n",
        "area = lado * lado;\n",
        "dobro = area * 2\n",
        "print(f'A área do quadrado corresponde a {round(area,2)} e seu dobro corresponde a %.2f'%dobro)"
      ],
      "metadata": {
        "colab": {
          "base_uri": "https://localhost:8080/"
        },
        "id": "u_jVtNgXnLIl",
        "outputId": "e513094e-3d47-44e5-dd3a-dc57d0ec90e2"
      },
      "execution_count": null,
      "outputs": [
        {
          "output_type": "stream",
          "name": "stdout",
          "text": [
            "Insira a medida do lado do quadrado: 5.15\n",
            "A área do quadrado corresponde a 26.52 e seu dobro corresponde a 53.05\n"
          ]
        }
      ]
    },
    {
      "cell_type": "markdown",
      "source": [
        "Elabore um algoritmo que receba do usuário o valor do salário\u0002mínimo e o valor do salário de um funcionário. Calcule e mostre a\n",
        "quantidade de salários-mínimos que ganha esse\n",
        "funcionário."
      ],
      "metadata": {
        "id": "yASN6wnRoP_F"
      }
    },
    {
      "cell_type": "code",
      "source": [
        "salm= float (input('Insira o valor atual do sálario mínimo: '))\n",
        "salf= float (input('Insira agora o salário que deseja calcular: '))\n",
        "quat = salf / salm;\n",
        "print(f'O salário de {salf} corresponde a aproximadamente {round(quat,1)} salários mínimos')"
      ],
      "metadata": {
        "colab": {
          "base_uri": "https://localhost:8080/"
        },
        "id": "6iW-zJMMoS19",
        "outputId": "576213be-fda4-4200-935d-9e3fc6911a87"
      },
      "execution_count": null,
      "outputs": [
        {
          "output_type": "stream",
          "name": "stdout",
          "text": [
            "Insira o valor atual do sálario mínimo: 1320\n",
            "Insira agora o salário que deseja calcular: 4596.68\n",
            "O salário de 4596.68 corresponde a aproximadamente 3.5 salários mínimos\n"
          ]
        }
      ]
    },
    {
      "cell_type": "markdown",
      "source": [
        "Crie um algoritmo que receba o número a calcular,\n",
        "calcule e mostre a tabuada de um número fornecido pelo\n",
        "usuário."
      ],
      "metadata": {
        "id": "NyMiUIuvpwKW"
      }
    },
    {
      "cell_type": "code",
      "source": [
        "numero = int (input('Insira o valor que deseja calcular a tabuada: '))\n",
        "multiplicador = 0\n",
        "while multiplicador <= 10:\n",
        "  total = numero * multiplicador\n",
        "  print(f'{numero} * {multiplicador} = {total}')\n",
        "  multiplicador = multiplicador + 1\n",
        "\n"
      ],
      "metadata": {
        "colab": {
          "base_uri": "https://localhost:8080/"
        },
        "id": "CZ0a9OKfpyq3",
        "outputId": "72eb69c2-09da-4a17-a06d-b30f67105db2"
      },
      "execution_count": null,
      "outputs": [
        {
          "output_type": "stream",
          "name": "stdout",
          "text": [
            "Insira o valor que deseja calcular a tabuada: 5\n",
            "5 * 0 = 0\n",
            "5 * 1 = 5\n",
            "5 * 2 = 10\n",
            "5 * 3 = 15\n",
            "5 * 4 = 20\n",
            "5 * 5 = 25\n",
            "5 * 6 = 30\n",
            "5 * 7 = 35\n",
            "5 * 8 = 40\n",
            "5 * 9 = 45\n",
            "5 * 10 = 50\n"
          ]
        }
      ]
    },
    {
      "cell_type": "markdown",
      "source": [
        "Faça um algoritmo que receba do usuário o preço do\n",
        "produto, calcule e mostre o novo preço, sabendo que este\n",
        "sofreu um desconto% que será passado pelo usuário.\n"
      ],
      "metadata": {
        "id": "KEtxdTOfwJ2D"
      }
    },
    {
      "cell_type": "code",
      "source": [
        "valor = float(input('Insira o valor do produto: '))\n",
        "desc = int (input('Insira a porcentagem de desconto: '))\n",
        "total = (valor - (valor * desc )/100)\n",
        "print(f'A compra de seu produto de valor: {valor} com desconto de {desc}% ficara no total de : {round(total,2)} reais')"
      ],
      "metadata": {
        "colab": {
          "base_uri": "https://localhost:8080/"
        },
        "id": "44sHLx5KwMgi",
        "outputId": "dab42f3f-efeb-41be-dd3b-64dfd6ad4a1a"
      },
      "execution_count": null,
      "outputs": [
        {
          "output_type": "stream",
          "name": "stdout",
          "text": [
            "Insira o valor do produto: 100\n",
            "Insira a porcentagem de desconto: 10\n",
            "A compra de seu produto de valor: 100.0 com desconto de 10% ficara no total de : 90.0 reais\n"
          ]
        }
      ]
    },
    {
      "cell_type": "markdown",
      "source": [
        "Elabore um algoritmo que receba o ano de Nascimento de uma\n",
        "pessoa e o ano atual. Calcule e mostre: A) A idade da pessoa; B)\n",
        "Quantos anos ela terá em 2039."
      ],
      "metadata": {
        "id": "CUpYYPzS3oGQ"
      }
    },
    {
      "cell_type": "code",
      "source": [
        "anonasc = int (input('Insira o seu ano de nascimento: '))\n",
        "anoatl = int (input('Insira o ano atual: '))\n",
        "idd = anoatl - anonasc\n",
        "iddft = 2039 - anonasc\n",
        "print(f'Sua idade é de {idd} anos, em 2039 você terá {iddft} anos.')"
      ],
      "metadata": {
        "colab": {
          "base_uri": "https://localhost:8080/"
        },
        "id": "4VvTVrhX3rfY",
        "outputId": "92a7a749-fe21-4496-8e8c-a5b261feb330"
      },
      "execution_count": null,
      "outputs": [
        {
          "output_type": "stream",
          "name": "stdout",
          "text": [
            "Insira o seu ano de nascimento: 2004\n",
            "Insira o ano atual: 2023\n",
            "Sua idade é de 19 anos, em 2039 você terá 35 anos.\n"
          ]
        }
      ]
    },
    {
      "cell_type": "markdown",
      "source": [
        "Sabe-se que:\n",
        "1 Pé é igual a 12\n",
        "1 Jarda é igual a 3 Pés\n",
        "1 Milha é igual a 300 Jardas\n",
        "... Sendo assim, desenvolva um algoritmo que receba uma medida\n",
        "em Pés. Faça as conversões e mostre os resultados para:\n",
        "a) Polegadas\n",
        "b) Jardas\n",
        "c) Milhas"
      ],
      "metadata": {
        "id": "eJuN4q2b5A8D"
      }
    },
    {
      "cell_type": "code",
      "source": [
        "pes = float (input('Insira a medida em pés: '))\n",
        "polegadas = pes * 12\n",
        "jarda = pes * 3\n",
        "milha = jarda * 300\n",
        "print(f'Efetuando a converção sua medida em polegadas é de : {round(polegadas,2)}')\n",
        "print(f'Em jardas : {round(jarda,2)}')\n",
        "print(f'Em milhas : {round(milha,2)}')\n"
      ],
      "metadata": {
        "colab": {
          "base_uri": "https://localhost:8080/"
        },
        "id": "0Wa1phVQ5DkD",
        "outputId": "76b6c816-ee8d-4666-f2ff-138193f5e72e"
      },
      "execution_count": null,
      "outputs": [
        {
          "output_type": "stream",
          "name": "stdout",
          "text": [
            "Insira a medida em pés: 20.20\n",
            "Efetuando a converção sua medida em polegadas é de : 242.4\n",
            "Em jardas : 60.6\n",
            "Em milhas : 18180.0\n"
          ]
        }
      ]
    },
    {
      "cell_type": "markdown",
      "source": [
        "Faça um Algoritmo que receba o valor de um depósito bancário\n",
        "e o valor da taxa de juros. Calcule e imprima o valor do rendimento do\n",
        "primeiro mês e o valor total do rendimento somado ao valor do\n",
        "depósito."
      ],
      "metadata": {
        "id": "xA9TaKKX7Kv4"
      }
    },
    {
      "cell_type": "code",
      "source": [
        "dep = float (input('Insira o valor do depósito: '))\n",
        "txjuros = int (input('Insira o valor da taxa de juros: '))\n",
        "rendimento = ((dep * txjuros)/100)\n",
        "total = rendimento + dep\n",
        "print(f'Seu depósito de {dep} reais, sobre uma taxa de juros de {txjuros}%')\n",
        "print(f'teve um rendimento de {rendimento} reais e seu saldo atual corresponde a {total} reais')\n"
      ],
      "metadata": {
        "colab": {
          "base_uri": "https://localhost:8080/"
        },
        "id": "Zr0bNVLk7NA3",
        "outputId": "42e9ee34-bbfd-4a55-9c3a-2c52392db4b9"
      },
      "execution_count": null,
      "outputs": [
        {
          "output_type": "stream",
          "name": "stdout",
          "text": [
            "Insira o valor do depósito: 1000\n",
            "Insira o valor da taxa de juros: 10\n",
            "Seu depósito de 1000.0 reais, sobre uma taxa de juros de 10%\n",
            "teve um rendimento de 100.0 reais e seu saldo atual corresponde a 1100.0 reais\n"
          ]
        }
      ]
    },
    {
      "cell_type": "markdown",
      "source": [
        "Elabore um programa que receba o nome do funcionário, o valor do salário bruto e o percentual de imposto sobre o salário, calcule o salário líquido e escreva na tela uma resposta como no exemplo abaixo: O salário líquido do funcionário FULANO DE TAL é R$: 999,99"
      ],
      "metadata": {
        "id": "1iIrJOf2g-8L"
      }
    },
    {
      "cell_type": "code",
      "source": [
        "nome = (input('Insira seu nome: '))\n",
        "sbruto = float (input('Digite a seguir o valor do salário bruto: '))\n",
        "imp = float (input('Informe o percentual de imposto sobre o salário: '))\n",
        "sliq = sbruto - (sbruto/100*imp)\n",
        "print(f'{nome} seu salário líquido equivale a: {sliq} reais')\n"
      ],
      "metadata": {
        "colab": {
          "base_uri": "https://localhost:8080/"
        },
        "id": "q0tjJBWNhB-Q",
        "outputId": "9b5ca3d6-3f94-4464-d5ef-2fd7fd61cf17"
      },
      "execution_count": null,
      "outputs": [
        {
          "output_type": "stream",
          "name": "stdout",
          "text": [
            "Insira seu nome: Vinicius\n",
            "Digite a seguir o valor do salário bruto: 5000\n",
            "Informe o percentual de imposto sobre o salário: 10\n",
            "Vinicius seu salário líquido equivale a: 4500.0 reais\n"
          ]
        }
      ]
    },
    {
      "cell_type": "markdown",
      "source": [
        "Faça um programa que receba o salário de um funcionário, calcule e imprima o novo salário, sabendo que sofreu um aumento % e será passado pelo usuário"
      ],
      "metadata": {
        "id": "UUG6QajZk5wz"
      }
    },
    {
      "cell_type": "code",
      "source": [
        "nome = (input('Insira seu nome: '))\n",
        "sal = float (input('Informe o valor de seu salário atual: '))\n",
        "aum = float (input('Informe a porcentagem de aumento sobre o mesmo: '))\n",
        "total = sal + (sal/100*aum)\n",
        "print(f'{nome} seu salário com aumento equivale a: {total} reais')"
      ],
      "metadata": {
        "colab": {
          "base_uri": "https://localhost:8080/"
        },
        "id": "JMoeySask7fo",
        "outputId": "61040b3c-e273-473e-85f4-5bef17cd29f9"
      },
      "execution_count": null,
      "outputs": [
        {
          "output_type": "stream",
          "name": "stdout",
          "text": [
            "Insira seu nome: vinicius\n",
            "Informe o valor de seu salário atual: 5000\n",
            "Informe a porcentagem de aumento sobre o mesmo: 10\n",
            "vinicius seu salário com aumento equivale a: 5500.0 reais\n"
          ]
        }
      ]
    },
    {
      "cell_type": "markdown",
      "source": [
        "Escreva um algoritmo para ler os dados de eleitores de um município já somados:\n",
        "- O número de votos brancos;\n",
        "- Votos nulos;\n",
        "- Votos válidos.\n",
        "Calcular e escrever:\n",
        "- O Total de eleitores;\n",
        "- O percentual que cada um representa em relação ao total de eleitores."
      ],
      "metadata": {
        "id": "dXN5bpB0lnHQ"
      }
    },
    {
      "cell_type": "code",
      "source": [
        "vbranco = int(input('Informe o número total de votos em branco: '))\n",
        "vnulo = int(input('Informe o número total de votos em nulo: '))\n",
        "vvalido = int(input('Informe o número total de votos válidos: '))\n",
        "total = vbranco + vnulo + vvalido\n",
        "percval = vvalido *100/total\n",
        "percnul = vnulo *100/total\n",
        "percbran = vbranco *100/total\n",
        "print(f'Houve um total de {total} eleitores')\n",
        "print(f'Um total de {round(percbran,2)} % dos eleitores votaram em branco,{round(percnul,2)} % votaram em nulo e {round(percval,2)} % tiveram votos válidos.')"
      ],
      "metadata": {
        "colab": {
          "base_uri": "https://localhost:8080/"
        },
        "id": "-Cvfi2V8lpbB",
        "outputId": "27f7a08f-f3c8-4e1a-b841-0f94d1003065"
      },
      "execution_count": null,
      "outputs": [
        {
          "output_type": "stream",
          "name": "stdout",
          "text": [
            "Informe o número total de votos em branco: 54\n",
            "Informe o número total de votos em nulo: 56\n",
            "Informe o número total de votos válidos: 52\n",
            "Houve um total de 162 eleitores\n",
            "Um total de 33.33 % dos eleitores votaram em branco,34.57 % votaram em nulo e 32.1 % dos eleitores tiveram votos válidos.\n"
          ]
        }
      ]
    },
    {
      "cell_type": "markdown",
      "source": [
        "Construa um algoritmo que leia 2 valores (reais) para as variáveis A e B, e efetue a troca dos valores de forma que a variável A passe a possuir o valor da variável B e a variável B passe a possuir o valor da variável A. Apresentar os valores trocados."
      ],
      "metadata": {
        "id": "bfV-FANGojxg"
      }
    },
    {
      "cell_type": "code",
      "source": [
        "A = int(input('Insira o primeiro valor:'))\n",
        "B = int(input('Insira o segundo valor: '))\n",
        "C = A\n",
        "A = B\n",
        "B = C\n",
        "print(f'Agora os valores se encontram invertidos o primeiro se torna {A} e o segundo {B}')"
      ],
      "metadata": {
        "colab": {
          "base_uri": "https://localhost:8080/"
        },
        "id": "hedfIkvOomvw",
        "outputId": "49720815-4472-4e84-c9a4-ffb189444fe7"
      },
      "execution_count": null,
      "outputs": [
        {
          "output_type": "stream",
          "name": "stdout",
          "text": [
            "Insira o primeiro valor:1\n",
            "Insira o segundo valor: 2\n",
            "Agora os valores se encontram invertidos o primeiro se torna 2 e o  segundo 1\n"
          ]
        }
      ]
    },
    {
      "cell_type": "markdown",
      "source": [
        "Algoritmo que receba o valor do combustível; a quantidade de quilômetros que o carro gasta por litro e os quilômetros que serão percorridos. Escreva na tela:\n",
        "- Quantos litros serão gastos no percurso e\n",
        "- O valor gasto com combustível."
      ],
      "metadata": {
        "id": "evHbaK9wpmNJ"
      }
    },
    {
      "cell_type": "code",
      "source": [
        "vcomb = float (input('Informe o valor do combustível: '))\n",
        "qtkm = float (input('Informe a quantidade de Km que o veículo gasta por litro: '))\n",
        "kmper = float (input('Informe quantos quilômetros serão percorridos: '))\n",
        "qtlit= kmper / qtkm\n",
        "vgasto = qtlit * vcomb\n",
        "print(f'Foram gastos {round(qtlit,2)} litros durante o percurso e foi gasto {round(vgasto,2)} reais.')"
      ],
      "metadata": {
        "colab": {
          "base_uri": "https://localhost:8080/"
        },
        "id": "OTNPRRJtpoEg",
        "outputId": "de97bfe3-8197-471a-a506-899ac81596ac"
      },
      "execution_count": null,
      "outputs": [
        {
          "output_type": "stream",
          "name": "stdout",
          "text": [
            "Informe o valor do combustível: 5\n",
            "Informe a quantidade de Km que o veículo gasta por litro: 10\n",
            "Informe quantos quilômetros serão percorridos: 500\n",
            "Foram gastos 50.0 litros durante o percurso e foi gasto 250.0 reais.\n"
          ]
        }
      ]
    },
    {
      "cell_type": "markdown",
      "source": [
        "Faça um algoritmo que receba os valores de dia, mês e ano separadamente e escreva a data na tela. Exemplo: 25/09/2023."
      ],
      "metadata": {
        "id": "4W_CFs0osAep"
      }
    },
    {
      "cell_type": "code",
      "source": [
        "dia = int(input('Insira o dia: '))\n",
        "mes = int(input('Insira o mês: '))\n",
        "ano = int(input('Insira o ano: '))\n",
        "print(f'A data informada corresponde a {dia}/{mes}/{ano}.')"
      ],
      "metadata": {
        "colab": {
          "base_uri": "https://localhost:8080/"
        },
        "id": "Fq_hWt1tsDdH",
        "outputId": "5d53efeb-ceec-4f17-e399-68acf48f57a1"
      },
      "execution_count": null,
      "outputs": [
        {
          "output_type": "stream",
          "name": "stdout",
          "text": [
            "Insira o dia: 12\n",
            "Insira o mês: 12\n",
            "Insira o ano: 2023\n",
            "A data informada corresponde a 12/12/2023.\n"
          ]
        }
      ]
    },
    {
      "cell_type": "markdown",
      "source": [
        "Desenvolva um algoritmo que receba do usuário um número inteiro e o valor(número) da potência que este número será calculado. Calcule e escreva na tela uma mensagem conforme este modelo: O valor:  5  elevado a  3  é:  125.\n"
      ],
      "metadata": {
        "id": "zyTPDc8Ds9Ay"
      }
    },
    {
      "cell_type": "code",
      "source": [
        "num = int (input('Insira o número a seguir: '))\n",
        "val = int (input('Insira o valor da potencia que o mesmo sera calculado: '))\n",
        "total = num ** val\n",
        "print(f'O número {num} elevado a {val} resulta no valor de: {total}')"
      ],
      "metadata": {
        "colab": {
          "base_uri": "https://localhost:8080/"
        },
        "id": "A9Wu3z1Xs_Dw",
        "outputId": "cbc44c18-2d46-48d6-9969-99f20990cb90"
      },
      "execution_count": null,
      "outputs": [
        {
          "output_type": "stream",
          "name": "stdout",
          "text": [
            "Insira o número a seguir: 5\n",
            "Insira o valor da potencia que o mesmo sera calculado: 3\n",
            "O número 5 elevado a 3 resulta no valor de: 125\n"
          ]
        }
      ]
    },
    {
      "cell_type": "markdown",
      "source": [
        "Sabendo que o cálculo para conversão de graus Fahrenheit para graus Celsius é C = 5 * ((F-32) / 9) desenvolva um algoritmo em que o usuário digite o valor de graus Fahrenheit calcule e mostre o resultado em grau Celsius."
      ],
      "metadata": {
        "id": "9HoK6UGJuCzg"
      }
    },
    {
      "cell_type": "code",
      "source": [
        "fah = float (input('Insira a temperatura em Fahrenheit: '))\n",
        "c = 5 * ((fah-32) / 9)\n",
        "print(f'Esta temperatura em Celsius corresponde a {round(c,2)}º.')"
      ],
      "metadata": {
        "colab": {
          "base_uri": "https://localhost:8080/"
        },
        "id": "RG-ecm-CuFQR",
        "outputId": "c340cd3f-eb67-4596-99da-461e2ab387e1"
      },
      "execution_count": null,
      "outputs": [
        {
          "output_type": "stream",
          "name": "stdout",
          "text": [
            "Insira a temperatura em Fahrenheit: 142\n",
            "Esta temperatura em Celsius corresponde a 61.11º graus.\n"
          ]
        }
      ]
    },
    {
      "cell_type": "markdown",
      "source": [
        "Crie um programa em Python que receba um valor, calcule a raiz quadra e print uma mensagem conforme o modelo: A Raiz quadrada de:  25  é  5.0"
      ],
      "metadata": {
        "id": "VVu5xfUWu1NL"
      }
    },
    {
      "cell_type": "code",
      "source": [
        "val = int (input('Insira o valor que deseje ver a raiz quadrada: '))\n",
        "total = val ** 0.5\n",
        "print(f'A raiz quadrada de {val} é igual a: {round(total,2)}')"
      ],
      "metadata": {
        "colab": {
          "base_uri": "https://localhost:8080/"
        },
        "id": "BLDowre5u14z",
        "outputId": "70b51156-5a65-4045-c4bf-07e2cbcd83df"
      },
      "execution_count": null,
      "outputs": [
        {
          "output_type": "stream",
          "name": "stdout",
          "text": [
            "Insira o valor que deseje ver a raiz quadrada: 9\n",
            "A raiz quadrada de 9 é igual a: 3.0\n"
          ]
        }
      ]
    },
    {
      "cell_type": "markdown",
      "source": [
        "Compreendendo também que a conversão de celsius para fahrenheit é f = (celsius * 9 / 5) + 32, desenvolva um algoritmo que receba o valor em celsius e converta para Fahrenheit."
      ],
      "metadata": {
        "id": "dJxYXftTvfKp"
      }
    },
    {
      "cell_type": "code",
      "source": [
        "cel = float(input('Insira a temperatura em Celsius: '))\n",
        "f = (cel * 9 / 5) + 32\n",
        "print(f'A temperatura informada em Celsius corresponde a {f}º Fahrenheit.')"
      ],
      "metadata": {
        "colab": {
          "base_uri": "https://localhost:8080/"
        },
        "id": "MEwcOIW0vhJp",
        "outputId": "3ddb9e94-c282-424d-cd9b-909963c36919"
      },
      "execution_count": null,
      "outputs": [
        {
          "output_type": "stream",
          "name": "stdout",
          "text": [
            "Insira a temperatura em Celsius: 21\n",
            "A temperatura informada em Celsius corresponde a 69.8º Fahrenheit.\n"
          ]
        }
      ]
    }
  ]
}