{
  "nbformat": 4,
  "nbformat_minor": 0,
  "metadata": {
    "colab": {
      "provenance": [],
      "authorship_tag": "ABX9TyNgga6xmpnWp1v5IsBWrSQ6",
      "include_colab_link": true
    },
    "kernelspec": {
      "name": "python3",
      "display_name": "Python 3"
    },
    "language_info": {
      "name": "python"
    }
  },
  "cells": [
    {
      "cell_type": "markdown",
      "metadata": {
        "id": "view-in-github",
        "colab_type": "text"
      },
      "source": [
        "<a href=\"https://colab.research.google.com/github/viivi02/scripts_em_python/blob/main/Exercicios_python_2.ipynb\" target=\"_parent\"><img src=\"https://colab.research.google.com/assets/colab-badge.svg\" alt=\"Open In Colab\"/></a>"
      ]
    },
    {
      "cell_type": "markdown",
      "source": [
        "Crie um algoritmo que receba o nome e a idade de uma pessoa. Caso a idade seja acima de 17 anos, escreva uma\n",
        "mensagem na tela conforme o modelo: Fulano, está apto para a carteira de motorista, idade: X. Caso contrário,\n",
        "calcule o tempo que falta até 18 anos e emita uma mensagem no modelo: Fulano, falta(m) X ano(s) para tirar a sua\n",
        "carta, idade: Y"
      ],
      "metadata": {
        "id": "xzpVrrd-_g3p"
      }
    },
    {
      "cell_type": "code",
      "execution_count": null,
      "metadata": {
        "id": "ByPqvS97_cWC"
      },
      "outputs": [],
      "source": [
        "nome = (input('Informe seu nome completo: '))\n",
        "idade = int (input('Informe sua idade: '))\n",
        "if idade >= 18:\n",
        "  print(f'{nome} você está apto para a carteira de motorista, idade {idade}')\n",
        "else:\n",
        "  x = 18 - idade\n",
        "  print(f'{nome} faltam {x} anos para você poder tirar sua habilitação')\n"
      ]
    },
    {
      "cell_type": "markdown",
      "source": [
        "Faça um Programa que peça um valor e mostre na tela se o valor é positivo ou negativo."
      ],
      "metadata": {
        "id": "aVefQ9UP_qcW"
      }
    },
    {
      "cell_type": "code",
      "source": [
        "x = float (input('Insira o valor a seguir: '))\n",
        "if x >= 0 :\n",
        "  print(f'O valor {x} é positivo.')\n",
        "else:\n",
        "  print(f'O valor {x} é negativo.')"
      ],
      "metadata": {
        "colab": {
          "base_uri": "https://localhost:8080/"
        },
        "id": "T4SFanf__t5_",
        "outputId": "c3a06de3-3455-47ce-d46f-02b16f38505b"
      },
      "execution_count": null,
      "outputs": [
        {
          "output_type": "stream",
          "name": "stdout",
          "text": [
            "Insira o valor a seguir: -1\n",
            "O valor -1.0 é negativo.\n"
          ]
        }
      ]
    },
    {
      "cell_type": "markdown",
      "source": [
        "Ler dois valores inteiros e apresentar o valor da diferença (subtração) entre o maior e menor valores lidos."
      ],
      "metadata": {
        "id": "D68YTCZ-AJ-5"
      }
    },
    {
      "cell_type": "code",
      "source": [
        "x = int (input('Insira o primeiro valor: '))\n",
        "y = int (input('Insira o segundo valor: '))\n",
        "if x > y:\n",
        "  print(f'A diferença entre os valores {x} e {y} é de {(x-y)}')\n",
        "else:\n",
        "  print(f'A diferença entre os valores {x} e {y} é de {(y-x)}')"
      ],
      "metadata": {
        "colab": {
          "base_uri": "https://localhost:8080/"
        },
        "id": "DHeg1enjAMXh",
        "outputId": "5563e94a-0f6d-4abe-c6fa-60d6c1a4013c"
      },
      "execution_count": null,
      "outputs": [
        {
          "output_type": "stream",
          "name": "stdout",
          "text": [
            "Insira o primeiro valor: 8\n",
            "Insira o segundo valor: 12\n",
            "A diferença entre os valores 8 e 12 é de 4\n"
          ]
        }
      ]
    },
    {
      "cell_type": "markdown",
      "source": [
        "Faça um Programa que pergunte em que turno você estuda. Peça para digitar M-matutino ou V-Vespertino ou N-Noturno. Imprima a mensagem \"Bom Dia!\", \"Boa Tarde!\" ou \"Boa Noite!\" ou \"Valor Inválido!\", conforme o cas"
      ],
      "metadata": {
        "id": "XYshK6lbBPcK"
      }
    },
    {
      "cell_type": "code",
      "source": [
        "periodo = (input('Informe o periodo que você estuda (M-matutino/V-vespertino/N-noturno): ')).upper()\n",
        "if periodo == 'M':\n",
        "  print('Bom dia!')\n",
        "elif periodo =='V':\n",
        "  print('Boa tarde!')\n",
        "elif periodo == 'N':\n",
        "  print('Boa noite!')\n",
        "else:\n",
        "  print('Valor Inválido!')"
      ],
      "metadata": {
        "colab": {
          "base_uri": "https://localhost:8080/"
        },
        "id": "IzYXqezcBSk7",
        "outputId": "f56282e8-d3a5-47cb-9823-b3c1406c86e1"
      },
      "execution_count": null,
      "outputs": [
        {
          "output_type": "stream",
          "name": "stdout",
          "text": [
            "Informe o periodo que você estuda (M-matutino/V-vespertino/N-noturno): N\n",
            "Boa noite!\n"
          ]
        }
      ]
    },
    {
      "cell_type": "markdown",
      "source": [
        "Ao chegar ao posto de combustível, você gostaria de calcular quanto vai gastar ao encher o tanque. Faça um\n",
        "algoritmo que leia quantos litros ainda restam no tanque, qual a capacidade do tanque, também em litros, e qual o\n",
        "tipo de combustível para abastecer (“A” para álcool e “G” para gasolina). O preço na bomba é de R$ 5,10 para\n",
        "gasolina e R$ 4,50 para álcool. Ao chegar ao posto de combustível, você gostaria de calcular quanto vai gastar ao\n",
        "encher o tanque. Faça um algoritmo que leia quantos litros ainda restam no tanque, qual a capacidade do tanque,\n",
        "também em litros, e qual o tipo de combustível para abastecer (“A” para álcool e “G” para gasolina). O preço na\n",
        "bomba é de R$ 5,10 para gasolina e R$ 4,50 para álcool.\n",
        "Sendo assim, converta o algoritmo de solução deste problema abaixo para a linguagem Python:\n",
        "real capacidade, sobra, valorCombustivel, valorPago\n",
        "string combustivel\n",
        "escreva(“Digite a capacidade do tanque: “)\n",
        "leia(capacidade)\n",
        "escreva(“Digite quantos litros ainda tem no tanque: “)\n",
        "leia(sobra)\n",
        "escreva(“Digite o tipo de combustível: “)\n",
        "leia(combustivel)\n",
        "se (combustivel == “A”)\n",
        "{\n",
        "valorCombustivel = 4.5\n",
        "} senao\n",
        "{\n",
        "valorCombustivel = 5.1\n",
        "}\n",
        "valorPago = (capacidade - sobra) * valorCombustivel\n",
        "escreva(“O valor a ser pago é: “, valorPago)\n"
      ],
      "metadata": {
        "id": "JWWPxozwCMnn"
      }
    },
    {
      "cell_type": "code",
      "source": [
        "cap = float (input('Informe qual a capacidade do tanque do veículo em litros: '))\n",
        "sobra = float (input('Informe quantos litros ainda restam no tanque do veiculo: '))\n",
        "tipo = (input('Informe qual o tipo de combustivel o veículo utiliza(G- para gasolina) ou (A- para álcool)')).upper()\n",
        "if tipo == 'G':\n",
        "  print(f'O valor a se pagar é de {round(((cap-sobra) * 5.1),2)} reais')\n",
        "elif tipo == 'A':\n",
        "  print(f'O valor a se pagar é de {round(((cap-sobra) * 4.5),2)} reais')\n",
        "else:\n",
        "  print('o tipo inserido é invalido')"
      ],
      "metadata": {
        "colab": {
          "base_uri": "https://localhost:8080/"
        },
        "id": "vMSsI5toCRW2",
        "outputId": "c7e73dc7-dc4f-40ee-feb9-6511e50fc1b4"
      },
      "execution_count": null,
      "outputs": [
        {
          "output_type": "stream",
          "name": "stdout",
          "text": [
            "Informe qual a capacidade do tanque do veículo em litros: 40\n",
            "Informe quantos litros ainda restam no tanque do veiculo: 5\n",
            "Informe qual o tipo de combustivel o veículo utiliza(G- para gasolina) ou (A- para álcool)a\n",
            "O valor a se pagar é de 157.5 reais\n"
          ]
        }
      ]
    },
    {
      "cell_type": "markdown",
      "source": [
        "Em uma academia, o preço mensal para a natação é:\n",
        "- Criança: R$ 120.00\n",
        "- Infantil: R$ 130.00\n",
        "- Juvenil: R$ 140.00\n",
        "- Adulto: R$ 150.00\n",
        "Essas modalidades são tabeladas de acordo com as seguintes faixas de idades:\n",
        "De 1 a 8 anos: Criança | De 9 a 15 anos: Infantil | De 16 a 20 anos: Juvenil | Acima de 20 anos: Adulto\n",
        "Quem apresentar carteirinha de estudante, terá 20% de desconto no pagamento.\n",
        "Dessa forma, desenvolva um algoritmo que receba o nome, a idade e a confirmação de carteirinha de estudante,\n",
        "representada pela letra ‘S’ para “sim” ou pela letra ‘N’ para “não”.\n",
        "Após a entrada dos dados, calcule e imprima a mensagem na tela seguindo os exemplos abaixo:\n",
        "a) Fulano(a) de Tal, sua categoria é: Infantil e o valor a ser pago é de R$ 130.00\n",
        "b) Fulano(a) de Tal, sua categoria é: Adulto e o valor a ser pago é de R$ 120.00 por apresentar carteirinha de estudante."
      ],
      "metadata": {
        "id": "cGAc_kwIF0Dn"
      }
    },
    {
      "cell_type": "code",
      "source": [
        "valor = 0\n",
        "nome = input('Informe seu nome completo: ')\n",
        "idade = int(input('Informe sua idade: '))\n",
        "cart = input('Caso tenha carteirinha de estudante digite (S):').upper()\n",
        "if (idade >= 1) and (idade <= 8):\n",
        "  valor = 120.00\n",
        "  categoria = 'criança'\n",
        "elif (idade >= 9) and (idade<= 15):\n",
        "  valor = 130.00\n",
        "  categoria = 'infantil'\n",
        "elif (idade >= 16) and (idade<= 20):\n",
        "  valor = 140.00\n",
        "  categoria = 'juvenil'\n",
        "elif idade > 20:\n",
        "  valor = 150.00\n",
        "  categoria = 'adulto'\n",
        "if (cart == 'S'):\n",
        "  total= (valor * 0.2)\n",
        "  print(f'{nome}, sua categoria é {categoria} e o valor a ser pago é de R${total} por aprensentar carteirinha de estudante')\n",
        "else:\n",
        "  print(f'{nome}, sua categoria é {categoria} e o valor a ser pago é de R${valor}')\n"
      ],
      "metadata": {
        "id": "wlVTLrL6F3mm",
        "colab": {
          "base_uri": "https://localhost:8080/"
        },
        "outputId": "079996e2-2083-4cc9-dc20-8baf08f3a435"
      },
      "execution_count": null,
      "outputs": [
        {
          "output_type": "stream",
          "name": "stdout",
          "text": [
            "Informe seu nome completo: vinicius\n",
            "Informe sua idade: 18\n",
            "Caso tenha carteirinha de estudante digite (S):s\n",
            "vinicius, sua categoria é juvenil e o valor a ser pago é de R$28.0 por aprensentar carteirinha de estudante\n"
          ]
        }
      ]
    },
    {
      "cell_type": "markdown",
      "source": [
        "Escreva um algoritmo que entre com o nome e idade de uma pessoa. Quando a idade estiver entre 18 e 37 anos escreva: “Idade adulta 1”. Se a idade estiver entre 38 e 58, escreva “Idade adulta 2”.  Caso a idade for menor que 18 ou maior que 58 escreva: “Idade Inválida”. Utilize “AND” e “OR”. Ao final, printe uma mensagem na tela, apresentando o nome, a idade e o status da pessoa."
      ],
      "metadata": {
        "id": "jihRCObZohxR"
      }
    },
    {
      "cell_type": "code",
      "source": [
        "nome = (input('Informe seu nome: '))\n",
        "idade = int(input('Informe sua idade: '))\n",
        "if (idade >= 18) and (idade <=37 ):\n",
        "  status = 'Idade adulta 1'\n",
        "elif (idade >= 38) and (idade <=58 ):\n",
        "  status = 'Idade adulta 2'\n",
        "if (idade < 18) or (idade > 58)  :\n",
        "  print('Idade invalida.')\n",
        "else:\n",
        "  print(f'{nome} você possui {idade} anos e está nos status de {status}')"
      ],
      "metadata": {
        "colab": {
          "base_uri": "https://localhost:8080/"
        },
        "id": "XzmWoIpXokWs",
        "outputId": "e4ae2ae7-4ff2-44db-9f04-e3638e160081"
      },
      "execution_count": null,
      "outputs": [
        {
          "output_type": "stream",
          "name": "stdout",
          "text": [
            "Informe seu nome: vinicius\n",
            "Informe sua idade: 8\n",
            "Idade invalida.\n"
          ]
        }
      ]
    },
    {
      "cell_type": "markdown",
      "source": [
        "Faça um Programa que verifique se uma letra digitada é vogal ou consoante. Utilize “in” na construção da condicional. Se o caractere digitado não for uma letra de A a Z, escreva: ‘Letra inválida!’\n",
        "\n"
      ],
      "metadata": {
        "id": "rT6n8rWYt-uL"
      }
    },
    {
      "cell_type": "code",
      "source": [
        "letra=(input('Informe a letra a seguir: ')).upper()\n",
        "vogais = ['A','E','I','O','U']\n",
        "alfabeto = 'ABCDEFGHIJKLMNOPVUQXYZ'\n",
        "if letra in vogais :\n",
        "  print('Esta letra é uma vogal')\n",
        "elif letra not in alfabeto:\n",
        "  print('Letra invalida')\n",
        "else:\n",
        "  print('Esta letra é uma consoante')"
      ],
      "metadata": {
        "colab": {
          "base_uri": "https://localhost:8080/"
        },
        "id": "3z8eQzkfuLJb",
        "outputId": "92811659-f061-4aa8-f41b-231f41717ae8"
      },
      "execution_count": null,
      "outputs": [
        {
          "output_type": "stream",
          "name": "stdout",
          "text": [
            "Informe a letra a seguir: k\n",
            "Esta letra é uma consoante\n"
          ]
        }
      ]
    },
    {
      "cell_type": "markdown",
      "source": [
        "Faça um algoritmo que leia a sigla de um dos estados do Brasil e informe a qual região ele pertence."
      ],
      "metadata": {
        "id": "_MCl6GOPvwvj"
      }
    },
    {
      "cell_type": "code",
      "source": [
        "sigla = (input('insira a sigla de um estado brasileiro:')).upper()\n",
        "sul = ['PR','SC','RS']\n",
        "suldeste = ['SP','MG','RJ','ES']\n",
        "norte = ['AM','RO','AC','RR','AP','TO']\n",
        "nordeste = ['MA','PI','CE','RN','PB','PE','AL','SE','BA']\n",
        "centrooeste = ['MS','MT','GO','DF']\n",
        "if sigla in sul:\n",
        "  print('Este estado pertence a região sul')\n",
        "elif sigla in suldeste:\n",
        "  print('Este estado pertence a região suldeste')\n",
        "elif sigla in norte:\n",
        "  print('Este estado pertence a região norte')\n",
        "elif sigla in nordeste:\n",
        "  print('Este estado pertence a região nordeste')\n",
        "elif sigla in centrooeste:\n",
        "  print('Este estado pertence a região centro-oeste')\n",
        "else:\n",
        "  print('Esta sigla não pertencem a nenhum estado brasileiro')"
      ],
      "metadata": {
        "colab": {
          "base_uri": "https://localhost:8080/"
        },
        "id": "Bd2AWXG2vzOV",
        "outputId": "65561471-4df0-4a90-8e29-ab9be630b63a"
      },
      "execution_count": null,
      "outputs": [
        {
          "output_type": "stream",
          "name": "stdout",
          "text": [
            "insira a sigla de um estado brasileiro:ta\n",
            "Esta sigla não pertencem a nenhum estado brasileiro\n"
          ]
        }
      ]
    },
    {
      "cell_type": "markdown",
      "source": [
        "Em uma escolinha de Futebol, o pagamento de instrutores é com base em hora/aula. Faça um algoritmo que leia o nível e a quantidade de horas ministradas pelo instrutor para poder calcular seu salário. Sabe-se que o valor da hora/aula pode ser visto a seguir:\n",
        "Nível 1 – R$ 30,00 por hora/aula\n",
        "Nível 2 – R$ 37,50 por hora/aula\n",
        "Nível 3 – R$ 45,00 por hora/aula"
      ],
      "metadata": {
        "id": "eU8qMz05x5_I"
      }
    },
    {
      "cell_type": "code",
      "source": [
        "nivel = int(input('Informe a seguir qual o nivel da aula (1,2 ou 3): '))\n",
        "horas = int(input('Informe quantas horas de aula foram dadas: '))\n",
        "if nivel == 1:\n",
        "  hral = 30.00\n",
        "  total = (hral * horas)\n",
        "  print(f'Seu salário corresponde a {total}')\n",
        "elif nivel == 2:\n",
        "  hral = 37.50\n",
        "  total = (hral * horas)\n",
        "  print(f'Seu salário corresponde a {total}')\n",
        "elif nivel == 3:\n",
        "  hral = 45.00\n",
        "  total = (hral * horas)\n",
        "  print(f'Seu salário corresponde a {total}')"
      ],
      "metadata": {
        "colab": {
          "base_uri": "https://localhost:8080/"
        },
        "id": "tsUwRaEXx8Dd",
        "outputId": "1f158817-4192-4f8f-acc1-77655c062ff4"
      },
      "execution_count": null,
      "outputs": [
        {
          "name": "stdout",
          "output_type": "stream",
          "text": [
            "Informe a seguir qual o nivel da aula (1,2 ou 3): 1\n",
            "Informe quantas horas de aula foram dadas: 2\n"
          ]
        }
      ]
    },
    {
      "cell_type": "markdown",
      "source": [
        "Ao final do brasileirão deste ano, deseja-se saber quem foi o artilheiro do campeonato. Faça um algoritmo que leia o nome e o número de gols dos três jogadores com mais gols no brasileirão e mostre o nome do artilheiro."
      ],
      "metadata": {
        "id": "F6IIqbT60HQM"
      }
    },
    {
      "cell_type": "code",
      "source": [
        "nome = input('Informe o nome do primeiro jogador: ')\n",
        "gols = int(input('Informe a quantidade de gols: '))\n",
        "nome2 = input('Informe o nome do segundo jogador: ')\n",
        "gols2 = int(input('Informe a quantidade de gols: '))\n",
        "nome3 = input('Informe o nome do terceiro jogador: ')\n",
        "gols3 = int(input('Informe a quantidade de gols: '))\n",
        "if (gols > gols2) and (gols > gols3):\n",
        "  print(f'O jogador {nome} foi o artilheiro do campeonato')\n",
        "elif (gols2 > gols) and (gols2 > gols3 ):\n",
        "  print(f'O jogador {nome2} foi o artilheiro do campeonato')\n",
        "else:\n",
        "  print(f'O jogador {nome3} foi o artilheiro do campeonato')"
      ],
      "metadata": {
        "colab": {
          "base_uri": "https://localhost:8080/"
        },
        "id": "XqQoE-r_0Jh0",
        "outputId": "0ac359f4-41a8-4fbe-baf3-03c18defacb9"
      },
      "execution_count": null,
      "outputs": [
        {
          "output_type": "stream",
          "name": "stdout",
          "text": [
            "Informe o nome do primeiro jogador: d\n",
            "Informe a quantidade de gols: 21\n",
            "Informe o nome do segundo jogador: f\n",
            "Informe a quantidade de gols: 3\n",
            "Informe o nome do terceiro jogador: g\n",
            "Informe a quantidade de gols: 5\n",
            "O jogador d foi o artilheiro do campeonato\n"
          ]
        }
      ]
    },
    {
      "cell_type": "markdown",
      "source": [
        "Faça um algoritmo que receba os seguintes dados de um determinado aluno: Nome do aluno; Nome da disciplina; Valor da nota de Avaliação Contínua (AC); Valor da nota de Avaliação Final (AF); Nota de atividades (AT)\n",
        "Regras para gerar o status do aluno: Média de 0 a 3.9: “Reprovado!”|4 a 5.9: “Exame!” | acima de 5.9: “Aprovado!”\n",
        "Calcule a média e escreva uma mensagem conforme os modelos abaixo:\n",
        "O aluno Claudemir obteve a média 7 na Disciplina Algoritmos e seu status é: Aprovado!\n",
        "O aluno Túlio obteve a média 4,5 na Disciplina Algoritmos e seu status é: Exame!"
      ],
      "metadata": {
        "id": "jgNdWhxd2yfK"
      }
    },
    {
      "cell_type": "code",
      "source": [
        "nome = input('Informe seu nome: ')\n",
        "disciplina = input('Informe a sua disciplina: ')\n",
        "ac = float(input('Informe o valor da nota de avaliação contínua: '))\n",
        "af = float(input('Informe o valor da nota final: '))\n",
        "at = float(input('Informe a nota de atividades: '))\n",
        "total = ((ac + af + at)/3)\n",
        "if total < 3.9:\n",
        "  status = 'Reprovado!'\n",
        "elif (total >= 4) and (total < 5.9):\n",
        "  status = 'Exame!'\n",
        "elif total > 5.9:\n",
        "  status = 'Aprovado!'\n",
        "\n",
        "print(f'{nome} sua nota total foi de {round(total,2)} na disciplina de {disciplina} e seu status é: {status}')"
      ],
      "metadata": {
        "colab": {
          "base_uri": "https://localhost:8080/"
        },
        "id": "SflkFhaG21GX",
        "outputId": "e3be365d-a156-43b1-a988-7a040061ca7d"
      },
      "execution_count": null,
      "outputs": [
        {
          "output_type": "stream",
          "name": "stdout",
          "text": [
            "Informe seu nome: vinicus\n",
            "Informe a sua disciplina: sias\n",
            "Informe o valor da nota de avaliação contínua: 3\n",
            "Informe o valor da nota final: 6\n",
            "Informe a nota de atividades: 4\n",
            "vinicus sua nota total foi de 4.33 na disciplina de sias e seu status é: Exame!\n"
          ]
        }
      ]
    },
    {
      "cell_type": "markdown",
      "source": [
        "Faça um algoritmo que receba o nome e o salário de um funcionário e calcule conforme as regras:\n",
        "Salários abaixo de R$ 1.000,00: aumento de 40% | entre 1.000,00 e R$ 1.999,00: aumento de 30%\n",
        "Salários entre R$ 2.000,00 até R$ 2.999,00: aumento de 20% |Acima de R$ 3.000,00: calcular 10%\n",
        "O algoritmo deverá calcular e escrever o resultado conforme o modelo: Fulano, o valor de aumento do seu salário foi XXX reais e o seu novo salário será yyyy reais.\n"
      ],
      "metadata": {
        "id": "TMDGhyVC58KZ"
      }
    },
    {
      "cell_type": "code",
      "source": [
        "nome = input('Informe seu nome: ')\n",
        "salario = float(input('Informe seu salário: '))\n",
        "if salario < 1000.00:\n",
        "  aumento = salario * 0.4\n",
        "elif (salario >=1000) and (salario <=1999):\n",
        "  aumento = salario * 0.3\n",
        "elif (salario >=2000) and (salario <=2999):\n",
        "  aumento = salario * 0.2\n",
        "elif salario >3000:\n",
        "  aumento = salario * 0.1\n",
        "total = salario + aumento\n",
        "print(f'{nome}, o valor de aumento do seu salário foi {aumento} reais e o seu novo salário será {total} reais.')"
      ],
      "metadata": {
        "colab": {
          "base_uri": "https://localhost:8080/"
        },
        "id": "wCeAVrDc5_eQ",
        "outputId": "9fcbe948-0d38-4c4e-d5f2-5fc09fbbe8d9"
      },
      "execution_count": null,
      "outputs": [
        {
          "output_type": "stream",
          "name": "stdout",
          "text": [
            "Informe seu nome: vinicius\n",
            "Informe seu salário: 2000\n",
            "vinicius, o valor de aumento do seu salário foi 400.0 reais e o seu novo salário será 2400.0 reais.\n"
          ]
        }
      ]
    },
    {
      "cell_type": "markdown",
      "source": [
        "Elabore um algoritmo que leia o valor de dois números inteiros e a operação aritmética desejada “+ - * / “. Calcule a resposta e escreva o resultado na tela."
      ],
      "metadata": {
        "id": "G7XNtWNtBj1m"
      }
    },
    {
      "cell_type": "code",
      "source": [
        "num1 = float(input('Informe o primeiro valor a ser calculado: '))\n",
        "num2 = float(input('Informe o segundo valor: '))\n",
        "operacao = input('Informe qual operação será utilizada(\"+\",\"-\",\"*\" ou \"/\"): ')\n",
        "if operacao == '+':\n",
        "  total = num1+num2\n",
        "elif operacao == '-':\n",
        "  total = num1-num2\n",
        "elif operacao == '*':\n",
        "  total = num1*num2\n",
        "elif operacao == '/':\n",
        "  total = num1/num2\n",
        "print(f'Resultado: {total}')"
      ],
      "metadata": {
        "colab": {
          "base_uri": "https://localhost:8080/"
        },
        "id": "xTEuN8HOBnTU",
        "outputId": "becafcb0-77bc-45ca-845e-31b944840a57"
      },
      "execution_count": null,
      "outputs": [
        {
          "output_type": "stream",
          "name": "stdout",
          "text": [
            "Informe o primeiro valor a ser calculado: 2\n",
            "Informe o segundo valor: 3\n",
            "Informe qual operação será utilizada(\"+\",\"-\",\"*\" ou \"/\"): -\n",
            "Resultado: -1.0\n"
          ]
        }
      ]
    },
    {
      "cell_type": "markdown",
      "source": [
        "Escreva um algoritmo que receba o nome e total de votos de três candidatos para gestão de um condomínio. O algoritmo deverá responder nesta ordem:\n",
        " - O primeiro colocado foi: Fulano de tal, com X% dos votos.\n",
        "- O segundo colocado foi: Ciclano de tal, com y% dos votos.\n",
        "- O terceiro colocado foi: Beltrano de tal, com M% dos votos."
      ],
      "metadata": {
        "id": "bprLNQF-DQRn"
      }
    },
    {
      "cell_type": "code",
      "source": [
        "nome = input('Informe o nome do primeiro candidato: ')\n",
        "votos = int(input('Informe a quantidade de votos: '))\n",
        "nome2 = input('Informe o nome do segundo candidato: ')\n",
        "votos2 = int(input('Informe a quantidade de votos: '))\n",
        "nome3 = input('Informe o nome do terceiro candidato: ')\n",
        "votos3 = int(input('Informe a quantidade de votos: '))\n",
        "if (votos > votos2) and (votos>votos3):\n",
        "  primeiro = nome\n",
        "elif (votos2 > votos) and (votos2 > votos3):\n",
        "  primeiro = nome2\n",
        "elif (votos3 > votos2) and (votos3 > votos):\n",
        "  primeiro = nome3\n",
        "if (votos > votos2) and (votos < votos3):\n",
        "  segundo = nome\n",
        "elif (votos2 > votos) and (votos2 < votos3):\n",
        "  segundo = nome2\n",
        "elif (votos3 > votos2) and (votos3 < votos):\n",
        "  segundo = nome3\n",
        "if (votos < votos2) and (votos < votos3):\n",
        "  terceiro = nome\n",
        "elif (votos2 < votos) and (votos2 < votos3):\n",
        "  terceiro = nome2\n",
        "elif (votos3 < votos2) and (votos3 < votos):\n",
        "  terceiro = nome3\n",
        "total =(votos + votos2 + votos3)\n",
        "porcentagem = ((votos/total)*100)\n",
        "porcentagem1 = ((votos2/total)*100)\n",
        "porcentagem2 = ((votos3/total)*100 )\n",
        "print(f'O primeiro colocado foi: {primeiro}, com {round(porcentagem,2)}% dos votos.')\n",
        "print(f'O segundo colocado foi: {segundo}, com {round(porcentagem1,2)}% dos votos.')\n",
        "print(f'O terceiro colocado foi: {terceiro}, com {round(porcentagem2,2)}% dos votos.')"
      ],
      "metadata": {
        "colab": {
          "base_uri": "https://localhost:8080/"
        },
        "id": "yG21TGrEDSfY",
        "outputId": "929b6cce-4657-4ba2-b73a-ee171806881a"
      },
      "execution_count": null,
      "outputs": [
        {
          "output_type": "stream",
          "name": "stdout",
          "text": [
            "Informe o nome do primeiro candidato: a\n",
            "Informe a quantidade de votos: 100\n",
            "Informe o nome do segundo candidato: b\n",
            "Informe a quantidade de votos: 50\n",
            "Informe o nome do terceiro candidato: c\n",
            "Informe a quantidade de votos: 50\n",
            "O primeiro colocado foi: a, com 50.0% dos votos.\n",
            "O segundo colocado foi: f, com 25.0% dos votos.\n",
            "O terceiro colocado foi: b, com 25.0% dos votos.\n"
          ]
        }
      ]
    },
    {
      "cell_type": "markdown",
      "source": [
        "Faça um algoritmo que receba a idade e o peso de uma pessoa. De acordo com a tabela, verifique e mostre qual o grupo de risco essa pessoa se encaixa apresentando na tela o modelo de resposta: Você se encaixa no Grupo 9: Menores de 20 anos e até 60 quilos!"
      ],
      "metadata": {
        "id": "nkTYsKzCIjgA"
      }
    },
    {
      "cell_type": "code",
      "source": [
        "idade = int(input('Informe sua idade: '))\n",
        "peso = float(input('Informe seu peso: '))\n",
        "if (idade <= 20) and (peso<=60):\n",
        "  grupo = 'Grupo 9: Menores de 20 anos e até 60 quilos!'\n",
        "if (idade <= 20) and (peso>60):\n",
        "  grupo = 'Grupo 8: Menores de 20 anos de 60 a 90 quilos!'\n",
        "if (idade <= 20) and (peso>90):\n",
        "  grupo = 'Grupo 7: Menores de 20 anos acima de 90 quilos!'\n",
        "if (idade > 20) and (peso<60):\n",
        "  grupo = 'Grupo 6: Entre 21 a 50 anos e até 60 quilos!'\n",
        "if (idade > 20) and (peso>60):\n",
        "  grupo = 'Grupo 5: Entre 21 a 50 anos de 60 a 90 quilos!'\n",
        "if (idade > 20) and (peso>90):\n",
        "  grupo = 'Grupo 4: Entre 21 a 50 anos acima de 90 quilos!'\n",
        "if (idade >50) and (peso<60):\n",
        "  grupo = 'Grupo 3: Maiores de 50 anos e até 60 quilos!'\n",
        "if (idade >50 ) and (peso >=60):\n",
        "  grupo = 'Grupo 2: Maiores de 50 anos de 60 a 90 quilos!'\n",
        "if (idade > 50) and (peso>90):\n",
        "  grupo = 'Grupo 1: Maiores de 50 anos e acima de 90 quilos!'\n",
        "print(f'Você se encaixa no {grupo}')\n"
      ],
      "metadata": {
        "colab": {
          "base_uri": "https://localhost:8080/"
        },
        "id": "VD9nVBJkImUG",
        "outputId": "7d810290-2d6c-4d33-e74a-c3b8e8d22364"
      },
      "execution_count": null,
      "outputs": [
        {
          "output_type": "stream",
          "name": "stdout",
          "text": [
            "Informe sua idade: 19\n",
            "Informe seu peso: 48\n",
            "Você se encaixa no Grupo 9: Menores de 20 anos e até 60 quilos!\n"
          ]
        }
      ]
    },
    {
      "cell_type": "markdown",
      "source": [
        "Um mercado está vendendo frutas com a seguinte tabela de preços. ...Se o cliente comprar mais de 8 Kg em frutas ou o valor total da compra ultrapassar R$ 25,00, receberá ainda um desconto de 10% sobre este total. Escreva um algoritmo para ler a quantidade (em Kg) de morangos e a quantidade (em Kg) de maças adquiridas e escreva o valor a ser pago pelo cliente."
      ],
      "metadata": {
        "id": "LkiOfE6JPx2W"
      }
    },
    {
      "cell_type": "code",
      "source": [
        "fruta = input('Informe qual fruta deseja comprar maçã ou morango: ').upper()\n",
        "quantidade = int(input('Informe a quantidade em Kg que deseja comprar: '))\n",
        "maca = ['MAÇA','MACA','MAÇÃ','MAÇÃS','MAÇAS']\n",
        "morango = ['MORANGO','MORANGOS']\n",
        "if fruta in maca:\n",
        "  preco = 2.50\n",
        "elif fruta in morango:\n",
        "  preco = 1.80\n",
        "if fruta in maca and (quantidade>5):\n",
        "  preco= 2.20\n",
        "elif fruta in morango and (quantidade>5):\n",
        "  preco=1.50\n",
        "total = preco * quantidade\n",
        "if (quantidade >= 8) or (total> 25):\n",
        "  totaldesc = (total * 0.1) + total\n",
        "  print(f'Foram compradas {quantidade}Kg de {fruta} e o valor total ficou em {round(totaldesc,2)} reais com desconto. ')\n",
        "else:\n",
        "  print(f'Foram compradas {quantidade}Kg de {fruta} e o valor total ficou em {total} reais. ')"
      ],
      "metadata": {
        "id": "dPEqX2hxPzyW",
        "colab": {
          "base_uri": "https://localhost:8080/"
        },
        "outputId": "cd69469e-f0ac-4e71-f054-f2a26a558635"
      },
      "execution_count": null,
      "outputs": [
        {
          "output_type": "stream",
          "name": "stdout",
          "text": [
            "Informe qual fruta deseja comprar maçã ou morango: morango\n",
            "Informe a quantidade em Kg que deseja comprar: 9\n",
            "Foram compradas 9Kg de MORANGO e o valor total ficou em 14.85 reais com desconto. \n"
          ]
        }
      ]
    },
    {
      "cell_type": "markdown",
      "source": [
        "Desenvolva um algoritmo que receba valores diferentes para três variáveis do tipo inteiro e escreva os valores em ordem crescente"
      ],
      "metadata": {
        "id": "4GgUi4Jf_xnH"
      }
    },
    {
      "cell_type": "code",
      "source": [
        "val1 = int(input('Informe o primeiro valor: '))\n",
        "val2 = int(input('Informe o segundo valor: '))\n",
        "val3 = int(input('Informe o terceiro valor: '))\n",
        "if (val1>val2) and (val2>val3):\n",
        "  primeiro = val1\n",
        "  segundo = val2\n",
        "  terceiro = val3\n",
        "elif (val1>val3) and (val3>val2):\n",
        "  primeiro = val1\n",
        "  segundo = val3\n",
        "  terceiro = val2\n",
        "elif (val2>val1) and (val1>val3):\n",
        "  primeiro = val2\n",
        "  segundo = val1\n",
        "  terceiro = val3\n",
        "elif (val2>val3) and (val3>val1):\n",
        "  primeiro = val2\n",
        "  segundo = val3\n",
        "  terceiro = val1\n",
        "elif (val3> val1) and (val1>val2):\n",
        "  primeiro = val3\n",
        "  segundo = val1\n",
        "  terceiro = val2\n",
        "elif (val3> val2) and (val2>val1):\n",
        "  primeiro = val3\n",
        "  segundo = val2\n",
        "  terceiro = val1\n",
        "print(f'Em ordem crescente os valores ficam {primeiro},{segundo},{terceiro}')"
      ],
      "metadata": {
        "colab": {
          "base_uri": "https://localhost:8080/"
        },
        "id": "jeNelfTR_ziI",
        "outputId": "73f572a4-e955-48fc-dafc-2254fc45da9a"
      },
      "execution_count": null,
      "outputs": [
        {
          "output_type": "stream",
          "name": "stdout",
          "text": [
            "Informe o primeiro valor: 3\n",
            "Informe o segundo valor: 2\n",
            "Informe o terceiro valor: 6\n",
            "Em ordem crescente os valores ficam 6,3,2\n"
          ]
        }
      ]
    },
    {
      "cell_type": "markdown",
      "source": [
        "Faça um algoritmo que receba quatro números inteiros e escreva uma mensagem apontando qual é o maior."
      ],
      "metadata": {
        "id": "2oJNriioCxot"
      }
    },
    {
      "cell_type": "code",
      "source": [
        "num1 = int(input('Informe o primeiro valor: '))\n",
        "num2 = int(input('Informe o segundo valor: '))\n",
        "num3 = int(input('Informe o terceiro valor: '))\n",
        "num4 = int(input('Informe o quarto valor: '))\n",
        "if (num1 > num2) and (num1> num3) and (num1>num4):\n",
        "  maior = num1\n",
        "elif (num2 > num1) and (num2> num3) and (num2>num4):\n",
        "  maior = num2\n",
        "elif (num3 > num1) and (num3> num2) and (num3>num4):\n",
        "  maior = num3\n",
        "elif (num4 > num1) and (num4> num3) and (num4>num2):\n",
        "  maior = num4\n",
        "print(f'O maior numero citado é o {maior}.')"
      ],
      "metadata": {
        "colab": {
          "base_uri": "https://localhost:8080/"
        },
        "id": "Ebz1Pe2fCzcF",
        "outputId": "0824c8f0-a193-4957-966b-0133a7829984"
      },
      "execution_count": null,
      "outputs": [
        {
          "output_type": "stream",
          "name": "stdout",
          "text": [
            "Informe o primeiro valor: 1\n",
            "Informe o segundo valor: 2\n",
            "Informe o terceiro valor: 3\n",
            "Informe o quarto valor: 4\n",
            "O maior numero citado é o 4.\n"
          ]
        }
      ]
    },
    {
      "cell_type": "markdown",
      "source": [
        "Sabendo que na linguagem C, o comando scanf efetua a leitura do valor da variável pelo usuário, e as duas barras retas “||” representam a condição or no python, converta o programa abaixo para a linguagem Python:\n",
        "#include\n",
        " main()\n",
        " {\n",
        " int dia,mes,ano;\n",
        " printf(\"Qual dia voce nasceu\\n\");\n",
        " scanf(\"%d\",&dia);\n",
        " if ((dia<1)||(dia>31))\n",
        " {\n",
        " printf(\"dia invalido\");\n",
        " }\n",
        "printf(\"Qual mes voce nasceu\\n\");\n",
        " scanf(\"%d\",&mes);\n",
        " if ((mes<1)||(mes>12))\n",
        " {\n",
        " printf(\"mes invalido\");\n",
        " }\n",
        " printf(\"Qual ano voce nasceu\\n\");\n",
        " scanf(\"%d\",&ano);\n",
        " if ((ano<1900)||(ano>2013))\n",
        " {\n",
        " printf(\"ano invalido\");\n",
        " }\n",
        " printf(\"%d/%d/%d data valida\",dia,mes,ano);\n",
        " }"
      ],
      "metadata": {
        "id": "qEMJhL52EQ3B"
      }
    },
    {
      "cell_type": "code",
      "source": [
        "dia = int(input('Qual dia você nasceu? '))\n",
        "mes = int(input('Qual mês você nasceu? '))\n",
        "ano = int (input('Qual ano você nasceu? '))\n",
        "if (dia < 1) or (dia >31):\n",
        "  print('dia inválido!')\n",
        "if (mes < 1)  or (mes > 12):\n",
        "  print('mês inválido!')\n",
        "if (ano < 1900)  or (ano > 2013):\n",
        "  print('ano inválido!')\n",
        "else:\n",
        "  print(f'{dia}/{mes}/{ano} data válida!')"
      ],
      "metadata": {
        "colab": {
          "base_uri": "https://localhost:8080/"
        },
        "id": "u-a1s42_ETbZ",
        "outputId": "8e147458-1744-4187-9aaf-b9552d765f33"
      },
      "execution_count": null,
      "outputs": [
        {
          "output_type": "stream",
          "name": "stdout",
          "text": [
            "Qual dia você nasceu? 3\n",
            "Qual mês você nasceu? 6\n",
            "Qual ano você nasceu? 2004\n",
            "3/6/2004 data válida!\n"
          ]
        }
      ]
    }
  ]
}